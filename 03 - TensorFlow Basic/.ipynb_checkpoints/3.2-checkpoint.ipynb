{
 "cells": [
  {
   "cell_type": "code",
   "execution_count": 2,
   "metadata": {},
   "outputs": [
    {
     "name": "stdout",
     "output_type": "stream",
     "text": [
      "Tensor(\"Placeholder_1:0\", shape=(?, 3), dtype=float32)\n",
      "[[1, 2, 3], [4, 5, 6]]\n",
      "<tf.Variable 'Variable:0' shape=(3, 2) dtype=float32_ref>\n",
      "<tf.Variable 'Variable_1:0' shape=(2, 1) dtype=float32_ref>\n",
      "Tensor(\"add:0\", shape=(2, 2), dtype=float32)\n"
     ]
    }
   ],
   "source": [
    "import tensorflow as tf\n",
    "\n",
    "X = tf.placeholder(tf.float32, [None,3])\n",
    "print(X)\n",
    "\n",
    "x_data = [[1,2,3,],[4,5,6]]\n",
    "\n",
    "W = tf.Variable(tf.random_normal([3,2]))\n",
    "b = tf.Variable(tf.random_normal([2,1]))\n",
    "\n",
    "expr = tf.matmul(X,W)+b\n",
    "\n",
    "print(x_data)\n",
    "print(W)\n",
    "print(b)\n",
    "print(expr)"
   ]
  },
  {
   "cell_type": "code",
   "execution_count": 12,
   "metadata": {},
   "outputs": [
    {
     "name": "stdout",
     "output_type": "stream",
     "text": [
      "=== x_data===\n",
      "[[1, 2, 3], [4, 5, 6]]\n",
      "=== W ===\n",
      "[[-0.20642966  0.63985896]\n",
      " [ 1.0785402  -0.06475752]\n",
      " [ 0.328836    0.5225362 ]]\n",
      "=== b===\n",
      "[[-0.94039816]\n",
      " [-1.4336034 ]]\n",
      "===expr===\n",
      "[[1.9967604 1.1375542]\n",
      " [5.106395  3.937262 ]]\n",
      "=== Second Step ---- ===\n",
      "=== W ===\n",
      "[[-0.5772075  -0.60732305]\n",
      " [-0.98992085  0.08977742]\n",
      " [-0.37090543  0.16261695]]\n",
      "=== b===\n",
      "[[ 0.59426075]\n",
      " [-1.0674937 ]]\n",
      "===expr===\n",
      "[[ -3.0755048    0.65434337]\n",
      " [-10.55136     -2.072197  ]]\n"
     ]
    }
   ],
   "source": [
    "sess = tf.Session()\n",
    "sess.run(tf.global_variables_initializer())\n",
    "\n",
    "print(\"=== x_data===\")\n",
    "print(x_data)\n",
    "print(\"=== W ===\")\n",
    "print(sess.run(W))\n",
    "print(\"=== b===\")\n",
    "print(sess.run(b))\n",
    "print(\"===expr===\")\n",
    "print(sess.run(expr, feed_dict={X:x_data}))\n",
    "\n",
    "print(\"=== Second Step ---- ===\")\n",
    "print(\"=== W ===\")\n",
    "print(sess.run(W))\n",
    "print(\"=== b===\")\n",
    "print(sess.run(b))\n",
    "print(\"===expr===\")\n",
    "print(sess.run(expr, feed_dict={X:x_data}))\n",
    "\n",
    "\n",
    "sess.close()"
   ]
  },
  {
   "cell_type": "code",
   "execution_count": null,
   "metadata": {},
   "outputs": [],
   "source": []
  }
 ],
 "metadata": {
  "kernelspec": {
   "display_name": "Python 3",
   "language": "python",
   "name": "python3"
  },
  "language_info": {
   "codemirror_mode": {
    "name": "ipython",
    "version": 3
   },
   "file_extension": ".py",
   "mimetype": "text/x-python",
   "name": "python",
   "nbconvert_exporter": "python",
   "pygments_lexer": "ipython3",
   "version": "3.6.4"
  }
 },
 "nbformat": 4,
 "nbformat_minor": 2
}
